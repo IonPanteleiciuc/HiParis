{
 "cells": [
  {
   "cell_type": "code",
   "execution_count": 1,
   "id": "a7160165-421b-4514-874b-37376d849bd9",
   "metadata": {
    "tags": []
   },
   "outputs": [],
   "source": [
    "import pandas as pd\n",
    "import numpy as np\n",
    "import matplotlib as plt\n",
    "import seaborn as sns\n",
    "\n",
    "pd.set_option('display.max_columns', None)"
   ]
  },
  {
   "cell_type": "markdown",
   "id": "aa32b9c5-2b91-4341-9348-ea88d9a80c90",
   "metadata": {
    "tags": []
   },
   "source": [
    "<div class=\"alert alert-block alert-info\">\n",
    "<b>To do</b>:\n",
    "    \n",
    " - Sales de Mai 2023 indisponibles donc les supputer\n",
    " - Site à splitter pour récupérer plusieurs infos\n",
    " - Product Life cycel status\n",
    "</div>"
   ]
  },
  {
   "cell_type": "code",
   "execution_count": 2,
   "id": "6e4d8801-58a0-4461-bb42-b1ae4b6a5ed0",
   "metadata": {
    "tags": []
   },
   "outputs": [],
   "source": [
    "X = pd.read_csv('datasets_hi4/train-data.csv', sep=';')\n",
    "X.drop_duplicates(inplace=True)"
   ]
  },
  {
   "cell_type": "code",
   "execution_count": 3,
   "id": "b64cda24-ea5b-4cdb-8c79-8bb5273e97e7",
   "metadata": {
    "tags": []
   },
   "outputs": [],
   "source": [
    "X['Reference proxy'] = X['Reference proxy'].apply(lambda x: x.replace('reference-', ''))\n",
    "X['Product  Line proxy'] = X['Product  Line proxy'].apply(lambda x: x.replace('Product Line-', ''))\n",
    "X['Division proxy'] = X['Division proxy'].apply(lambda x: x.replace('Division-', ''))\n",
    "X['Customer Persona proxy'] = X['Customer Persona proxy'].apply(lambda x: x.replace('Customer Segmentation-', ''))\n",
    "X['Strategic Product Family proxy'] = X['Strategic Product Family proxy'].apply(lambda x: x.replace('Strategic Product Family-', ''))"
   ]
  },
  {
   "cell_type": "code",
   "execution_count": 4,
   "id": "485f6057-224c-48f9-83da-b14b5d9bbcd2",
   "metadata": {
    "tags": []
   },
   "outputs": [],
   "source": [
    "X[['Quarter', 'Year']] = X.Date.str.split(expand=True)\n",
    "X['Quarter'] = X['Quarter'].map({'jan-apr': 1, 'may-jul': 2, 'may-aug': 2, 'sep-dec': 3})\n",
    "X.drop('Date', axis=1, inplace=True)"
   ]
  },
  {
   "cell_type": "code",
   "execution_count": 5,
   "id": "5a12a6b5-5a10-4e4c-a373-7e71c8e9ba88",
   "metadata": {
    "tags": []
   },
   "outputs": [],
   "source": [
    "df_melted = pd.melt(X[['Month 1', 'Month 2', 'Month 3', 'Month 4']], var_name='Month', value_name='Sales', ignore_index=False)\n",
    "df_melted['Month'] = df_melted['Month'].str.replace('Month ', '').astype(int)\n",
    "X = X.merge(df_melted, left_index=True, right_index=True)\n",
    "X['Year'] = X['Year'].astype(int)\n",
    "X['Month'] = X['Month'] + 4*(X['Quarter']-1)\n",
    "X['Month_cumulated'] = (X['Month']-8) + (X['Year']-2020)*12\n",
    "X['Month_cumulated'] = X['Month_cumulated'].map({33: 36, 34: 33, 35: 34, 36: 35}).fillna(X['Month_cumulated']).astype(int)\n",
    "X.drop(['Month 1', 'Month 2', 'Month 3', 'Month 4', 'Quarter'], axis=1, inplace=True)\n",
    "X = X[X['Month_cumulated']!=36]\n",
    "X['Sales'] = X['Sales'].apply(lambda x: int(str(x).replace(' ', '')))\n",
    "X.reset_index(drop=True, inplace=True)"
   ]
  },
  {
   "cell_type": "code",
   "execution_count": 6,
   "id": "ec3840db-6267-42cd-bc0b-ee9bbe97bef9",
   "metadata": {
    "tags": []
   },
   "outputs": [
    {
     "data": {
      "text/plain": [
       "Index(['index', 'id_product', 'Region', 'Country', 'Site', 'Operations',\n",
       "       'Zone', 'Cluster', 'Reference proxy', 'Product  Line proxy',\n",
       "       'Division proxy', 'Customer Persona proxy',\n",
       "       'Strategic Product Family proxy', 'Product Life cycel status', 'Year',\n",
       "       'Month', 'Sales', 'Month_cumulated'],\n",
       "      dtype='object')"
      ]
     },
     "execution_count": 6,
     "metadata": {},
     "output_type": "execute_result"
    }
   ],
   "source": [
    "X.columns"
   ]
  },
  {
   "cell_type": "code",
   "execution_count": 7,
   "id": "099ba209-dff8-40e2-b98b-b5b3dda674cc",
   "metadata": {
    "tags": []
   },
   "outputs": [
    {
     "data": {
      "text/html": [
       "<div>\n",
       "<style scoped>\n",
       "    .dataframe tbody tr th:only-of-type {\n",
       "        vertical-align: middle;\n",
       "    }\n",
       "\n",
       "    .dataframe tbody tr th {\n",
       "        vertical-align: top;\n",
       "    }\n",
       "\n",
       "    .dataframe thead th {\n",
       "        text-align: right;\n",
       "    }\n",
       "</style>\n",
       "<table border=\"1\" class=\"dataframe\">\n",
       "  <thead>\n",
       "    <tr style=\"text-align: right;\">\n",
       "      <th></th>\n",
       "      <th>index</th>\n",
       "      <th>id_product</th>\n",
       "      <th>Region</th>\n",
       "      <th>Country</th>\n",
       "      <th>Site</th>\n",
       "      <th>Operations</th>\n",
       "      <th>Zone</th>\n",
       "      <th>Cluster</th>\n",
       "      <th>Reference proxy</th>\n",
       "      <th>Product  Line proxy</th>\n",
       "      <th>Division proxy</th>\n",
       "      <th>Customer Persona proxy</th>\n",
       "      <th>Strategic Product Family proxy</th>\n",
       "      <th>Product Life cycel status</th>\n",
       "      <th>Year</th>\n",
       "      <th>Month</th>\n",
       "      <th>Sales</th>\n",
       "      <th>Month_cumulated</th>\n",
       "    </tr>\n",
       "  </thead>\n",
       "  <tbody>\n",
       "    <tr>\n",
       "      <th>0</th>\n",
       "      <td>645874</td>\n",
       "      <td>156160</td>\n",
       "      <td>EUROPE</td>\n",
       "      <td>DE</td>\n",
       "      <td>NL_DC_Venray</td>\n",
       "      <td>Europe Operations</td>\n",
       "      <td>DACH</td>\n",
       "      <td>Germany</td>\n",
       "      <td>13523</td>\n",
       "      <td>4</td>\n",
       "      <td>3</td>\n",
       "      <td>3</td>\n",
       "      <td>12</td>\n",
       "      <td>NaN</td>\n",
       "      <td>2021</td>\n",
       "      <td>5</td>\n",
       "      <td>0</td>\n",
       "      <td>9</td>\n",
       "    </tr>\n",
       "    <tr>\n",
       "      <th>1</th>\n",
       "      <td>645874</td>\n",
       "      <td>156160</td>\n",
       "      <td>EUROPE</td>\n",
       "      <td>DE</td>\n",
       "      <td>NL_DC_Venray</td>\n",
       "      <td>Europe Operations</td>\n",
       "      <td>DACH</td>\n",
       "      <td>Germany</td>\n",
       "      <td>13523</td>\n",
       "      <td>4</td>\n",
       "      <td>3</td>\n",
       "      <td>3</td>\n",
       "      <td>12</td>\n",
       "      <td>NaN</td>\n",
       "      <td>2021</td>\n",
       "      <td>6</td>\n",
       "      <td>0</td>\n",
       "      <td>10</td>\n",
       "    </tr>\n",
       "    <tr>\n",
       "      <th>2</th>\n",
       "      <td>645874</td>\n",
       "      <td>156160</td>\n",
       "      <td>EUROPE</td>\n",
       "      <td>DE</td>\n",
       "      <td>NL_DC_Venray</td>\n",
       "      <td>Europe Operations</td>\n",
       "      <td>DACH</td>\n",
       "      <td>Germany</td>\n",
       "      <td>13523</td>\n",
       "      <td>4</td>\n",
       "      <td>3</td>\n",
       "      <td>3</td>\n",
       "      <td>12</td>\n",
       "      <td>NaN</td>\n",
       "      <td>2021</td>\n",
       "      <td>7</td>\n",
       "      <td>0</td>\n",
       "      <td>11</td>\n",
       "    </tr>\n",
       "  </tbody>\n",
       "</table>\n",
       "</div>"
      ],
      "text/plain": [
       "    index  id_product  Region Country          Site         Operations  Zone  \\\n",
       "0  645874      156160  EUROPE      DE  NL_DC_Venray  Europe Operations  DACH   \n",
       "1  645874      156160  EUROPE      DE  NL_DC_Venray  Europe Operations  DACH   \n",
       "2  645874      156160  EUROPE      DE  NL_DC_Venray  Europe Operations  DACH   \n",
       "\n",
       "   Cluster Reference proxy Product  Line proxy Division proxy  \\\n",
       "0  Germany           13523                   4              3   \n",
       "1  Germany           13523                   4              3   \n",
       "2  Germany           13523                   4              3   \n",
       "\n",
       "  Customer Persona proxy Strategic Product Family proxy  \\\n",
       "0                      3                             12   \n",
       "1                      3                             12   \n",
       "2                      3                             12   \n",
       "\n",
       "  Product Life cycel status  Year  Month  Sales  Month_cumulated  \n",
       "0                       NaN  2021      5      0                9  \n",
       "1                       NaN  2021      6      0               10  \n",
       "2                       NaN  2021      7      0               11  "
      ]
     },
     "execution_count": 7,
     "metadata": {},
     "output_type": "execute_result"
    }
   ],
   "source": [
    "X.head(3)"
   ]
  },
  {
   "cell_type": "code",
   "execution_count": 8,
   "id": "6c9245dc-77b0-4210-b0d2-d7b58854aa06",
   "metadata": {
    "tags": []
   },
   "outputs": [
    {
     "name": "stdout",
     "output_type": "stream",
     "text": [
      "<class 'pandas.core.frame.DataFrame'>\n",
      "RangeIndex: 6856015 entries, 0 to 6856014\n",
      "Data columns (total 18 columns):\n",
      " #   Column                          Dtype \n",
      "---  ------                          ----- \n",
      " 0   index                           int64 \n",
      " 1   id_product                      int64 \n",
      " 2   Region                          object\n",
      " 3   Country                         object\n",
      " 4   Site                            object\n",
      " 5   Operations                      object\n",
      " 6   Zone                            object\n",
      " 7   Cluster                         object\n",
      " 8   Reference proxy                 object\n",
      " 9   Product  Line proxy             object\n",
      " 10  Division proxy                  object\n",
      " 11  Customer Persona proxy          object\n",
      " 12  Strategic Product Family proxy  object\n",
      " 13  Product Life cycel status       object\n",
      " 14  Year                            int64 \n",
      " 15  Month                           int64 \n",
      " 16  Sales                           int64 \n",
      " 17  Month_cumulated                 int64 \n",
      "dtypes: int64(6), object(12)\n",
      "memory usage: 941.5+ MB\n"
     ]
    }
   ],
   "source": [
    "X.info()"
   ]
  }
 ],
 "metadata": {
  "kernelspec": {
   "display_name": "Python 3 (ipykernel)",
   "language": "python",
   "name": "python3"
  },
  "language_info": {
   "codemirror_mode": {
    "name": "ipython",
    "version": 3
   },
   "file_extension": ".py",
   "mimetype": "text/x-python",
   "name": "python",
   "nbconvert_exporter": "python",
   "pygments_lexer": "ipython3",
   "version": "3.11.5"
  }
 },
 "nbformat": 4,
 "nbformat_minor": 5
}

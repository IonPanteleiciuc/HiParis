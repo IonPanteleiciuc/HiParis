{
 "cells": [
  {
   "cell_type": "code",
   "execution_count": 2,
   "metadata": {},
   "outputs": [],
   "source": [
    "import pandas as pd\n",
    "import numpy as np"
   ]
  },
  {
   "cell_type": "code",
   "execution_count": 3,
   "metadata": {},
   "outputs": [],
   "source": [
    "df = pd.read_csv('train-data.csv', sep=';')\n",
    "df.drop_duplicates(inplace=True)\n",
    "\n",
    "GSCPI_df = pd.read_csv('GSCPI_data.csv')\n",
    "GSCPI_df[['Year','Month']] = GSCPI_df['Year-Month'].str.split('-',expand=True)\n",
    "GSCPI_df['Month'] = GSCPI_df['Month'].astype(int)\n",
    "GSCPI_df['Year'] = GSCPI_df['Year'].astype(int)\n",
    "GSCPI_df.drop(columns=['Year-Month'], inplace=True)\n",
    "\n",
    "LPI_df = pd.read_csv('LPIextend.csv')\n",
    "\n",
    "worldbank_economic_data_df = pd.read_csv('worldbank_economic_data.csv')\n",
    "\n",
    "worldbank_inflation_data_df = pd.read_csv('worldbank_inflation_data.csv')\n",
    "worldbank_inflation_data_df[['Year','Month']] = worldbank_inflation_data_df['Year-Month'].str.split('-',expand=True)\n",
    "worldbank_inflation_data_df['Year'] = worldbank_inflation_data_df['Year'].astype(int)\n",
    "worldbank_inflation_data_df['Month'] = worldbank_inflation_data_df['Month'].astype(int) \n",
    "worldbank_inflation_data_df.drop(columns=['Year-Month'], inplace=True)"
   ]
  },
  {
   "cell_type": "code",
   "execution_count": 4,
   "metadata": {},
   "outputs": [],
   "source": [
    "df['Reference proxy'] = df['Reference proxy'].apply(lambda x: x.replace('reference-', ''))\n",
    "df['Product  Line proxy'] = df['Product  Line proxy'].apply(lambda x: x.replace('Product Line-', ''))\n",
    "df['Division proxy'] = df['Division proxy'].apply(lambda x: x.replace('Division-', ''))\n",
    "df['Customer Persona proxy'] = df['Customer Persona proxy'].apply(lambda x: x.replace('Customer Segmentation-', ''))\n",
    "df['Strategic Product Family proxy'] = df['Strategic Product Family proxy'].apply(lambda x: x.replace('Strategic Product Family-', ''))"
   ]
  },
  {
   "cell_type": "code",
   "execution_count": 5,
   "metadata": {},
   "outputs": [
    {
     "data": {
      "text/plain": [
       "(1762970, 19)"
      ]
     },
     "execution_count": 5,
     "metadata": {},
     "output_type": "execute_result"
    }
   ],
   "source": [
    "\n"
   ]
  },
  {
   "cell_type": "code",
   "execution_count": 6,
   "metadata": {},
   "outputs": [],
   "source": [
    "country_mapping = {'DE': 'Germany', 'CN': 'China', 'GB': 'United Kingdom', 'AU': 'Australia', 'ES': 'Spain', 'NL': 'Netherlands', 'US': 'United States', 'DK': 'Denmark', 'BE': 'Belgium', 'FR': 'France', 'IT': 'Italy', 'PL': 'Poland', 'SE': 'Sweden', 'TW': 'Taiwan', 'JP': 'Japan', 'HK': 'Hong Kong', 'KR': 'South Korea', 'PH': 'Philippines', 'MY': 'Malaysia', 'SG': 'Singapore', 'TH': 'Thailand', 'Id': 'Indonesia', 'FJ': 'Fiji', 'VN': 'Vietnam', 'BN': 'Brunei', 'NZ': 'New Zealand', 'MM': 'Myanmar', 'KH': 'Cambodia', 'MN': 'Mongolia', 'LA': 'Laos', 'PG': 'Papua New Guinea'}\n",
    "df['Country'] = df['Country'].map(country_mapping)\n"
   ]
  },
  {
   "cell_type": "code",
   "execution_count": 7,
   "metadata": {},
   "outputs": [],
   "source": [
    "df['Reference proxy'] = df['Reference proxy'].apply(lambda df: df.replace('reference-', ''))\n",
    "df['Product  Line proxy'] = df['Product  Line proxy'].apply(lambda df: df.replace('Product Line-', ''))\n",
    "df['Division proxy'] = df['Division proxy'].apply(lambda df: df.replace('Division-', ''))\n",
    "df['Customer Persona proxy'] = df['Customer Persona proxy'].apply(lambda df: df.replace('Customer Segmentation-', ''))\n",
    "df['Strategic Product Family proxy'] = df['Strategic Product Family proxy'].apply(lambda df: df.replace('Strategic Product Family-', ''))\n",
    "\n",
    "df[['Quarter', 'Year']] = df.Date.str.split(expand=True)\n",
    "df['Quarter'] = df['Quarter'].map({'jan-apr': 1, 'may-jul': 2, 'may-aug': 2, 'sep-dec': 3})\n",
    "df.drop('Date', axis=1, inplace=True)\n",
    "\n",
    "df_melted = pd.melt(df[['Month 1', 'Month 2', 'Month 3', 'Month 4']], var_name='Month', value_name='Sales', ignore_index=False)\n",
    "df_melted['Month'] = df_melted['Month'].str.replace('Month ', '').astype(int)\n",
    "df = df.merge(df_melted, left_index=True, right_index=True)\n",
    "df['Month'] = df['Month'] + 4*(df['Quarter']-1)\n",
    "df.drop(['Month 1', 'Month 2', 'Month 3', 'Month 4', 'Quarter'], axis=1, inplace=True)\n",
    "df.reset_index(drop=True, inplace=True)\n",
    "\n",
    "df['Year'] = df['Year'].astype(int)"
   ]
  },
  {
   "cell_type": "code",
   "execution_count": 8,
   "metadata": {},
   "outputs": [
    {
     "data": {
      "text/plain": [
       "(7051880, 17)"
      ]
     },
     "execution_count": 8,
     "metadata": {},
     "output_type": "execute_result"
    }
   ],
   "source": [
    "df.shape"
   ]
  },
  {
   "cell_type": "code",
   "execution_count": 9,
   "metadata": {},
   "outputs": [
    {
     "data": {
      "text/plain": [
       "(7051880, 42)"
      ]
     },
     "execution_count": 9,
     "metadata": {},
     "output_type": "execute_result"
    }
   ],
   "source": [
    "df = df.merge(LPI_df, on='Country')\n",
    "df.shape"
   ]
  },
  {
   "cell_type": "code",
   "execution_count": 10,
   "metadata": {},
   "outputs": [
    {
     "data": {
      "text/plain": [
       "(7051880, 51)"
      ]
     },
     "execution_count": 10,
     "metadata": {},
     "output_type": "execute_result"
    }
   ],
   "source": [
    "df = df.merge(worldbank_economic_data_df, how='left', on=['Country', 'Year'])\n",
    "df.shape"
   ]
  },
  {
   "cell_type": "code",
   "execution_count": 11,
   "metadata": {},
   "outputs": [
    {
     "data": {
      "text/plain": [
       "(7051880, 53)"
      ]
     },
     "execution_count": 11,
     "metadata": {},
     "output_type": "execute_result"
    }
   ],
   "source": [
    "df = df.merge(worldbank_inflation_data_df, how='left', on=['Country', 'Year', 'Month'])\n",
    "df.shape"
   ]
  },
  {
   "cell_type": "code",
   "execution_count": 12,
   "metadata": {},
   "outputs": [
    {
     "data": {
      "text/plain": [
       "(7051880, 54)"
      ]
     },
     "execution_count": 12,
     "metadata": {},
     "output_type": "execute_result"
    }
   ],
   "source": [
    "df = df.merge(GSCPI_df, how='left', on=['Year','Month'])\n",
    "df.shape"
   ]
  },
  {
   "cell_type": "code",
   "execution_count": 13,
   "metadata": {},
   "outputs": [],
   "source": [
    "df['Month_number'] = df['Month'] + (df['Year']-2020)*12-8"
   ]
  },
  {
   "cell_type": "code",
   "execution_count": 14,
   "metadata": {},
   "outputs": [],
   "source": [
    "df = df.reindex(columns=['index', 'Year','Month','Month_number','id_product', 'Region', 'Country','Site','Operations','Zone','Cluster','Reference proxy','Product  Line proxy','Division proxy','Customer Persona proxy','Strategic Product Family proxy','Product Life cycel status','Sales','Unnamed: 0','ID','population (2023)','area','landAreaKm','unMember','netChange','growthRate','worldPercentage','density','densityMi','rank','LPI Grouped Rank','Customs Score','Customs Grouped Rank','Infrastructure Score','Infrastructure Grouped Rank','International Shipments Score','International Shipments Grouped Rank','Logistics Competence and Quality Score','Logistics Competence and Quality Grouped Rank','Timeliness Score','Timeliness Grouped Rank','Tracking and Tracing Score','Tracking and Tracing Grouped Rank','Agriculture, forestry, and fishing, value added (annual % growth)','Exports of goods and services (annual % growth)','Final consumption expenditure (annual % growth)','GDP (current US$)','Gross capital formation (annual % growth)','Imports of goods and services (annual % growth)','Industry (including construction), value added (annual % growth)','Manufacturing, value added (annual % growth)','Services, value added (annual % growth)','Energy Price Index','Headline Consumer Price Index','GSCPI','Sales'])"
   ]
  },
  {
   "cell_type": "code",
   "execution_count": null,
   "metadata": {},
   "outputs": [],
   "source": []
  }
 ],
 "metadata": {
  "kernelspec": {
   "display_name": "base",
   "language": "python",
   "name": "python3"
  },
  "language_info": {
   "codemirror_mode": {
    "name": "ipython",
    "version": 3
   },
   "file_extension": ".py",
   "mimetype": "text/x-python",
   "name": "python",
   "nbconvert_exporter": "python",
   "pygments_lexer": "ipython3",
   "version": "3.10.12"
  },
  "orig_nbformat": 4
 },
 "nbformat": 4,
 "nbformat_minor": 2
}
